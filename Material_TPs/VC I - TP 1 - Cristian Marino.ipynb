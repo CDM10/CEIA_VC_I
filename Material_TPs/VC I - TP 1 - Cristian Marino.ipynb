{
 "cells": [
  {
   "cell_type": "code",
   "execution_count": null,
   "id": "c2c3243b-4e03-4934-aaaf-182e0b99d22d",
   "metadata": {},
   "outputs": [],
   "source": [
    "import numpy as np\n",
    "import cv2 as cv\n",
    "import matplotlib.pyplot as plt\n",
    "%matplotlib qt"
   ]
  },
  {
   "cell_type": "markdown",
   "id": "bc7ae495-265a-4974-8d5c-d26a2fe8d8f7",
   "metadata": {},
   "source": [
    "1.\n",
    "Implementar el algoritmo de pasaje a coordenadas cromáticas para librarnos de las variaciones de contraste."
   ]
  },
  {
   "cell_type": "code",
   "execution_count": 26,
   "id": "a9bdc5d1-306c-45a6-aeea-fb8021eb0248",
   "metadata": {},
   "outputs": [],
   "source": [
    "img_cc_1_BGR = cv.imread('CoordCrom_1.png')\n",
    "img_cc_1_RGB = cv.cvtColor(img_cc_1_BGR, cv.COLOR_BGR2RGB)\n",
    "plt.imshow(img_cc_1_RGB)\n",
    "plt.show()"
   ]
  },
  {
   "cell_type": "code",
   "execution_count": 27,
   "id": "635d51b6-6808-4031-acb3-cda1d0c63067",
   "metadata": {},
   "outputs": [],
   "source": [
    "img_cc_2_BGR = cv.imread('CoordCrom_2.png')\n",
    "img_cc_2_RGB = cv.cvtColor(img_cc_2_BGR, cv.COLOR_BGR2RGB)\n",
    "plt.imshow(img_cc_2_RGB)\n",
    "plt.show()"
   ]
  },
  {
   "cell_type": "code",
   "execution_count": 28,
   "id": "638be885-864b-48f9-a048-de82c8b51160",
   "metadata": {},
   "outputs": [],
   "source": [
    "img_cc_3_BGR = cv.imread('CoordCrom_3.png')\n",
    "img_cc_3_RGB = cv.cvtColor(img_cc_3_BGR, cv.COLOR_BGR2RGB)\n",
    "plt.imshow(img_cc_3_RGB)\n",
    "plt.show()"
   ]
  },
  {
   "cell_type": "code",
   "execution_count": 29,
   "id": "8df3232a-c091-4497-9048-4ba885609563",
   "metadata": {},
   "outputs": [],
   "source": [
    "sumaRGB_cc1= np.sum(img_cc_1_RGB, axis=2, keepdims= True)\n",
    "sumaRGB_cc2= np.sum(img_cc_2_RGB, axis=2, keepdims= True)\n",
    "sumaRGB_cc3= np.sum(img_cc_3_RGB, axis=2, keepdims= True)"
   ]
  },
  {
   "cell_type": "code",
   "execution_count": 30,
   "id": "7c21e96d-33eb-45d6-b4a1-067bd8e36348",
   "metadata": {},
   "outputs": [],
   "source": [
    "sumaRGB_cc1 [sumaRGB_cc1==0]= 1\n",
    "sumaRGB_cc2 [sumaRGB_cc2==0]= 1\n",
    "sumaRGB_cc3 [sumaRGB_cc3==0]= 1"
   ]
  },
  {
   "cell_type": "code",
   "execution_count": 31,
   "id": "4db45635-cbff-4813-94e7-642471ff5114",
   "metadata": {},
   "outputs": [],
   "source": [
    "ccrom_1 = img_cc_1_RGB / sumaRGB_cc1\n",
    "plt.imshow(ccrom_1)\n",
    "plt.show()"
   ]
  },
  {
   "cell_type": "code",
   "execution_count": 32,
   "id": "1e1b825e-04ae-4bf3-acb9-613439250f63",
   "metadata": {},
   "outputs": [],
   "source": [
    "ccrom_2 = img_cc_2_RGB / sumaRGB_cc2\n",
    "plt.imshow(ccrom_2)\n",
    "plt.show()"
   ]
  },
  {
   "cell_type": "code",
   "execution_count": 33,
   "id": "29b7da1c-6455-4fcb-99ff-baeb2dbdfec3",
   "metadata": {},
   "outputs": [],
   "source": [
    "ccrom_3 = img_cc_3_RGB / sumaRGB_cc3\n",
    "plt.imshow(ccrom_3)\n",
    "plt.show()"
   ]
  },
  {
   "cell_type": "code",
   "execution_count": 37,
   "id": "03616540-1d88-4417-b610-581e8ffaeda9",
   "metadata": {},
   "outputs": [],
   "source": [
    "#Separación de coordenadas cromáticas para la imagen 1\n",
    "ccromatica_r = ccrom_1[:, :, 0]\n",
    "ccromatica_g = ccrom_1[:, :, 1]\n",
    "ccromatica_b = ccrom_1[:, :, 2]"
   ]
  },
  {
   "cell_type": "markdown",
   "id": "aaecada8-c1f3-4f92-a682-dd2421bc3e3c",
   "metadata": {},
   "source": [
    "2.\r\n",
    "Implementar el algoritmo White\r\n",
    "Patch para librarnos de las diferencias de color de iluminación."
   ]
  },
  {
   "cell_type": "code",
   "execution_count": 54,
   "id": "33ad28da-253c-4a22-b870-fe0225157596",
   "metadata": {},
   "outputs": [],
   "source": [
    "#Aplicación del algoritmo a al imagen wp_r\n",
    "img_r = cv.imread('wp_red.png')\n",
    "img_r = cv.cvtColor(img_r, cv.COLOR_BGR2RGB)\n",
    "plt.imshow(img_r)\n",
    "plt.show()"
   ]
  },
  {
   "cell_type": "code",
   "execution_count": 44,
   "id": "3ec55deb-ed03-4dfa-8bf7-a03bd057b601",
   "metadata": {},
   "outputs": [],
   "source": [
    "r_max= np.max(img_r[:,:,0])\n",
    "g_max= np.max(img_r[:,:,1])\n",
    "b_max= np.max(img_r[:,:,2])"
   ]
  },
  {
   "cell_type": "code",
   "execution_count": 45,
   "id": "385cefdf-f0d9-4d60-9e65-ea6bf3217212",
   "metadata": {},
   "outputs": [],
   "source": [
    "scale_r = 255/r_max\n",
    "scale_g = 255/g_max\n",
    "scale_b = 255/b_max"
   ]
  },
  {
   "cell_type": "code",
   "execution_count": 55,
   "id": "698cbd79-b4e3-4393-82ba-56577c1c27e4",
   "metadata": {},
   "outputs": [],
   "source": [
    "img_r_scaled = cv.imread('wp_red.png')\n",
    "img_r_scaled = cv.cvtColor(img_r_scaled, cv.COLOR_BGR2RGB)"
   ]
  },
  {
   "cell_type": "code",
   "execution_count": 56,
   "id": "7081d5e9-4c8f-4b2b-8d09-ccd472044a4d",
   "metadata": {},
   "outputs": [],
   "source": [
    "img_r_scaled[:, :, 0] = img_r[:, :, 0]*scale_r\n",
    "img_r_scaled[:, :, 1] = img_r[:, :, 1]*scale_g\n",
    "img_r_scaled[:, :, 2] = img_r[:, :, 2]*scale_b"
   ]
  },
  {
   "cell_type": "code",
   "execution_count": 58,
   "id": "3d0e9940-1e6b-489c-b951-777668314c5e",
   "metadata": {},
   "outputs": [],
   "source": [
    "plt.imshow(img_r_scaled)\n",
    "plt.show()"
   ]
  },
  {
   "cell_type": "code",
   "execution_count": 61,
   "id": "4ac6fe7b-ad67-41bd-a67f-4092ddeb2a82",
   "metadata": {},
   "outputs": [],
   "source": [
    "#Aplicación del algoritmo WP a test_blue\n",
    "img_b = cv.imread('test_blue.png')\n",
    "img_b = cv.cvtColor(img_b, cv.COLOR_BGR2RGB)\n",
    "plt.imshow(img_b)\n",
    "plt.show()"
   ]
  },
  {
   "cell_type": "code",
   "execution_count": 62,
   "id": "b4d24f12-92d7-4f70-9e84-dfae01562eea",
   "metadata": {},
   "outputs": [],
   "source": [
    "r_max= np.max(img_b[:,:,0])\n",
    "g_max= np.max(img_b[:,:,1])\n",
    "b_max= np.max(img_b[:,:,2])"
   ]
  },
  {
   "cell_type": "code",
   "execution_count": 63,
   "id": "f6d3c10f-1f8b-4ccb-ab1c-c8e45d236166",
   "metadata": {},
   "outputs": [],
   "source": [
    "scale_r = 255/r_max\n",
    "scale_g = 255/g_max\n",
    "scale_b = 255/b_max"
   ]
  },
  {
   "cell_type": "code",
   "execution_count": 64,
   "id": "5c4b82e9-0909-46e4-84dd-3f858dbcf21d",
   "metadata": {},
   "outputs": [],
   "source": [
    "img_b_scaled = cv.imread('test_blue.png')\n",
    "img_b_scaled = cv.cvtColor(img_b, cv.COLOR_BGR2RGB)"
   ]
  },
  {
   "cell_type": "code",
   "execution_count": 65,
   "id": "4ffd278e-c29d-453c-80be-4600eb7b4a1c",
   "metadata": {},
   "outputs": [],
   "source": [
    "img_b_scaled[:, :, 0] = img_b[:, :, 0]*scale_r\n",
    "img_b_scaled[:, :, 1] = img_b[:, :, 1]*scale_g\n",
    "img_b_scaled[:, :, 2] = img_b[:, :, 2]*scale_b"
   ]
  },
  {
   "cell_type": "code",
   "execution_count": 66,
   "id": "63ebc6f3-81ae-4223-8891-2681db20ff88",
   "metadata": {},
   "outputs": [],
   "source": [
    "plt.imshow(img_b_scaled)\n",
    "plt.show()"
   ]
  },
  {
   "cell_type": "markdown",
   "id": "f5110b7c-fd94-4306-9621-3fd7bda06725",
   "metadata": {},
   "source": [
    "1.\r\n",
    "Para las imágenes\r\n",
    "img1_tp.png y img2_tp.png leerlas con OpenCV en escala de grisas y visualizarlas."
   ]
  },
  {
   "cell_type": "code",
   "execution_count": 73,
   "id": "52b45c91-9a27-4a73-bd85-044b3d6c3402",
   "metadata": {},
   "outputs": [],
   "source": [
    "img_1 = cv.imread('img1_tp.png', cv.IMREAD_GRAYSCALE)\n",
    "img_1 = cv.cvtColor(img_1, cv.COLOR_BGR2RGB)\n",
    "plt.imshow(img_1)\n",
    "plt.show()"
   ]
  },
  {
   "cell_type": "code",
   "execution_count": 72,
   "id": "0f97f55b-61ae-4ae0-a598-9f890f726d02",
   "metadata": {},
   "outputs": [],
   "source": [
    "img_2 = cv.imread('img2_tp.png', cv.IMREAD_GRAYSCALE)\n",
    "img_2 = cv.cvtColor(img_2, cv.COLOR_BGR2RGB)\n",
    "plt.imshow(img_2)\n",
    "plt.show()"
   ]
  },
  {
   "cell_type": "code",
   "execution_count": 118,
   "id": "1a87eb34-dc32-4809-bf06-11231093edf4",
   "metadata": {},
   "outputs": [],
   "source": [
    "fig = plt.figure()\n",
    "hist1, bins1 = np.histogram(img_1.ravel(), 256, [0, 256])\n",
    "plt.plot(hist1) \n",
    "plt.show()"
   ]
  },
  {
   "cell_type": "code",
   "execution_count": 117,
   "id": "250e4a60-937e-49f1-869b-abcde33b5d1b",
   "metadata": {},
   "outputs": [],
   "source": [
    "fig = plt.figure()\n",
    "hist2, bins2 = np.histogram(img_2.ravel(), 256, [0, 256])\n",
    "plt.plot(hist2)\n",
    "plt.show()"
   ]
  },
  {
   "cell_type": "code",
   "execution_count": null,
   "id": "e049d553-3a94-4d55-b187-b93e934deed8",
   "metadata": {},
   "outputs": [],
   "source": [
    "# Estuve más de 15 minutos viendo el código ya que ambos histogramas son iguales y quería saber si tengo algún error, pero por lo que\n",
    "# veo, siendo imágenes tan diferentes, tienen la misma distribución."
   ]
  },
  {
   "cell_type": "markdown",
   "id": "e79182e5-d7f1-4dc2-b78d-f6b6c672b4d0",
   "metadata": {},
   "source": [
    "3. Para la imagen\r\n",
    "segmentacion.png analice el histograma de los canales RGB. Segmente algunos de los\r\n",
    "elementos presentes en la imagen (agua, cielo, tierra) y muestre, aplicando mascaras, las regiones en imágenes\r\n",
    "separadatado"
   ]
  },
  {
   "cell_type": "code",
   "execution_count": 91,
   "id": "c624a730-4dc2-46dc-92bc-f663c5c0266f",
   "metadata": {},
   "outputs": [],
   "source": [
    "img_seg = cv.imread('segmentacion.png')\n",
    "img_seg = cv.cvtColor(img_seg, cv.COLOR_BGR2RGB)\n",
    "plt.imshow(img_seg)\n",
    "plt.show()"
   ]
  },
  {
   "cell_type": "code",
   "execution_count": 108,
   "id": "984a65c8-6bab-418c-89d6-90c918a6f9e9",
   "metadata": {},
   "outputs": [],
   "source": [
    "plt.figure()\n",
    "hist_r,_=np.histogram(img_seg[:,:,0].ravel(), 256, [0,256])\n",
    "hist_g,_=np.histogram(img_seg[:,:,1].ravel(), 256, [0,256])\n",
    "hist_b,_=np.histogram(img_seg[:,:,2].ravel(), 256, [0,256])\n",
    "plt.plot(hist_r, color='red', label='Rojo')\n",
    "plt.plot(hist_g, color='green', label='Verde')\n",
    "plt.plot(hist_b, color='blue', label='Azul')\n",
    "plt.show()"
   ]
  },
  {
   "cell_type": "code",
   "execution_count": 95,
   "id": "a2737ca8-51e8-48bf-afcd-5fce5385ee15",
   "metadata": {},
   "outputs": [],
   "source": [
    "img_muestra = img_seg[450:600, 450:600,:]\n",
    "plt.figure(2)\n",
    "plt.imshow(img_muestra)\n",
    "plt.show()"
   ]
  },
  {
   "cell_type": "code",
   "execution_count": 106,
   "id": "abe54e73-0512-41b0-8a49-f10cc2bf6c65",
   "metadata": {},
   "outputs": [
    {
     "name": "stdout",
     "output_type": "stream",
     "text": [
      "[[68.27231111]\n",
      " [54.27884444]\n",
      " [35.21173333]]\n",
      "[[50.22842955]\n",
      " [44.62724157]\n",
      " [34.13637441]]\n"
     ]
    }
   ],
   "source": [
    "color_mean, color_std = cv.meanStdDev(img_muestra)\n",
    "print(color_mean)\n",
    "print(color_std)"
   ]
  },
  {
   "cell_type": "code",
   "execution_count": 116,
   "id": "d20ea284-7c0d-4298-9eac-8387700869cf",
   "metadata": {},
   "outputs": [],
   "source": [
    "n_sigma = 1\n",
    "mask = cv.inRange(img_seg, color_mean-color_std * n_sigma,  color_mean+color_std * n_sigma)\n",
    "img_segmentada = cv.bitwise_and(img_seg, img_seg, mask=mask)\n",
    "\n",
    "plt.figure(3)\n",
    "plt.imshow(img_segmentada)\n",
    "plt.show()"
   ]
  },
  {
   "cell_type": "code",
   "execution_count": null,
   "id": "b38e48b2-d36f-4b5e-903e-5f56ef8b3051",
   "metadata": {},
   "outputs": [],
   "source": [
    "# Hay que ponerle 1 sigma ya que con más sigmas toma parte de la playa. Para mí, es porque la media y la desv estándar están en los\n",
    "# mismos órdenes de magnitud, por lo que agranda mucho el rango de colores que toma y pasa del marrón al azul."
   ]
  }
 ],
 "metadata": {
  "kernelspec": {
   "display_name": "Python 3 (ipykernel)",
   "language": "python",
   "name": "python3"
  },
  "language_info": {
   "codemirror_mode": {
    "name": "ipython",
    "version": 3
   },
   "file_extension": ".py",
   "mimetype": "text/x-python",
   "name": "python",
   "nbconvert_exporter": "python",
   "pygments_lexer": "ipython3",
   "version": "3.12.3"
  }
 },
 "nbformat": 4,
 "nbformat_minor": 5
}
