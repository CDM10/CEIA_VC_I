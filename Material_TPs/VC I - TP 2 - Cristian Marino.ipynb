{
 "cells": [
  {
   "cell_type": "code",
   "execution_count": 37,
   "id": "9fb8732c-190b-43a9-867d-6407d3fe13f3",
   "metadata": {},
   "outputs": [],
   "source": [
    "import numpy as np\n",
    "import cv2 as cv\n",
    "import matplotlib.pyplot as plt \n",
    "%matplotlib qt"
   ]
  },
  {
   "cell_type": "markdown",
   "id": "93aae6e8-44e7-476e-bb23-4fa81e1c3e92",
   "metadata": {},
   "source": [
    "## PUNTO 0\n",
    "Implementar la función\r\n",
    "create_gauss_filter (h, w, k_size , para crear filtros gaussianos para\r\n",
    "filtrado espectral. Debe retornar un filtro gaussiano de tamaño HxW en dominio espacial y su transformada\r\n",
    "de Fourier."
   ]
  },
  {
   "cell_type": "code",
   "execution_count": 38,
   "id": "6bcae325-0bd7-4926-9141-dde0288184af",
   "metadata": {},
   "outputs": [],
   "source": [
    "def create_gauss_filter(h, w, k_size, sigma):\n",
    "    #Creo el filtro gausiano en 1 d\n",
    "    filtro_gaussiano = cv.getGaussianKernel(k_size, sigma)\n",
    "    #Lo transformo en 2d con la transpuesta\n",
    "    filtro_gaussiano = filtro_gaussiano * filtro_gaussiano.T\n",
    "    #Hago un filtro de todos ceros para padding con las dimensiones de la imagen\n",
    "    filtro_g_padding = np.zeros((h, w), dtype=np.float32)\n",
    "    #Coordenadas donde voy a colocar el filtro gaussiano dentro del padding\n",
    "    start_x = (h - k_size) // 2\n",
    "    start_y = (w - k_size) // 2\n",
    "    #Reemplazo los ceros por el filtro gaussiano\n",
    "    filtro_g_padding[start_x:start_x + k_size, start_y:start_y + k_size] = filtro_gaussiano\n",
    "    # Calculo la FFT y la shifteo\n",
    "    t_fourier = np.fft.fft2(filtro_g_padding)\n",
    "    \n",
    "    return filtro_g_padding, t_fourier"
   ]
  },
  {
   "cell_type": "markdown",
   "id": "ee316e88-54fc-4b32-80e1-781da79f265d",
   "metadata": {},
   "source": [
    "## PUNTO 1\n",
    "Graficar ambas representaciones para diferentes tamaños de \n",
    "kernel y sigmal."
   ]
  },
  {
   "cell_type": "code",
   "execution_count": 138,
   "id": "0fac4e17-1419-4bb6-85e0-4001c51f0180",
   "metadata": {},
   "outputs": [
    {
     "data": {
      "text/plain": [
       "<matplotlib.image.AxesImage at 0x24514ad6600>"
      ]
     },
     "execution_count": 138,
     "metadata": {},
     "output_type": "execute_result"
    }
   ],
   "source": [
    "kernel, kernel_tfs = create_gauss_filter(h=480, w=480, k_size=15, sigma=1)\n",
    "\n",
    "plt.figure(figsize=(12,12))\n",
    "plt.subplot(1,2,1)\n",
    "plt.axis('off')\n",
    "plt.title(\"Kernel Gausiano\")\n",
    "plt.imshow(kernel, cmap='jet')\n",
    "plt.subplot(1,2,2)\n",
    "plt.axis('off')\n",
    "plt.title(\"FFT del kernel\")\n",
    "tf_shift = np.fft.fftshift(kernel_tfs)\n",
    "plt.imshow(np.abs(tf_shift), cmap='jet')"
   ]
  },
  {
   "cell_type": "code",
   "execution_count": 134,
   "id": "0f7ab7cc-4b82-441d-8511-ea7a34ba9380",
   "metadata": {},
   "outputs": [
    {
     "data": {
      "text/plain": [
       "<matplotlib.image.AxesImage at 0x24515318ec0>"
      ]
     },
     "execution_count": 134,
     "metadata": {},
     "output_type": "execute_result"
    }
   ],
   "source": [
    "kernel, kernel_tfs = create_gauss_filter(h=480, w=480, k_size=15, sigma=2)\n",
    "\n",
    "plt.figure(figsize=(12,12))\n",
    "plt.subplot(1,2,1)\n",
    "plt.axis('off')\n",
    "plt.title(\"Kernel Gausiano\")\n",
    "plt.imshow(kernel, cmap='jet')\n",
    "plt.subplot(1,2,2)\n",
    "plt.axis('off')\n",
    "plt.title(\"FFT del kernel\")\n",
    "tf_shift = np.fft.fftshift(kernel_tfs)\n",
    "plt.imshow(np.abs(tf_shift), cmap='jet')"
   ]
  },
  {
   "cell_type": "code",
   "execution_count": 135,
   "id": "05bc7b3c-9d5c-4b5a-a9fc-6dfa06aa2ad5",
   "metadata": {},
   "outputs": [
    {
     "data": {
      "text/plain": [
       "<matplotlib.image.AxesImage at 0x2451dd17050>"
      ]
     },
     "execution_count": 135,
     "metadata": {},
     "output_type": "execute_result"
    }
   ],
   "source": [
    "kernel, kernel_tfs = create_gauss_filter(h=480, w=480, k_size=15, sigma=3)\n",
    "\n",
    "plt.figure(figsize=(12,12))\n",
    "plt.subplot(1,2,1)\n",
    "plt.axis('off')\n",
    "plt.title(\"Kernel Gausiano\")\n",
    "plt.imshow(kernel, cmap='jet')\n",
    "plt.subplot(1,2,2)\n",
    "plt.axis('off')\n",
    "plt.title(\"FFT del kernel\")\n",
    "tf_shift = np.fft.fftshift(kernel_tfs)\n",
    "plt.imshow(np.abs(tf_shift), cmap='jet')"
   ]
  },
  {
   "cell_type": "code",
   "execution_count": 136,
   "id": "b459f8c4-b5a8-4125-b471-c47e59d8fc3e",
   "metadata": {},
   "outputs": [
    {
     "data": {
      "text/plain": [
       "<matplotlib.image.AxesImage at 0x2451dc67770>"
      ]
     },
     "execution_count": 136,
     "metadata": {},
     "output_type": "execute_result"
    }
   ],
   "source": [
    "kernel, kernel_tfs = create_gauss_filter(h=480, w=480, k_size=15, sigma=4)\n",
    "\n",
    "plt.figure(figsize=(12,12))\n",
    "plt.subplot(1,2,1)\n",
    "plt.axis('off')\n",
    "plt.title(\"Kernel Gausiano\")\n",
    "plt.imshow(kernel, cmap='jet')\n",
    "plt.subplot(1,2,2)\n",
    "plt.axis('off')\n",
    "plt.title(\"FFT del kernel\")\n",
    "tf_shift = np.fft.fftshift(kernel_tfs)\n",
    "plt.imshow(np.abs(tf_shift), cmap='jet')"
   ]
  },
  {
   "cell_type": "code",
   "execution_count": 139,
   "id": "6ca466e0-cc14-4e42-a8ea-2bc29dd8daae",
   "metadata": {},
   "outputs": [
    {
     "data": {
      "text/plain": [
       "<matplotlib.image.AxesImage at 0x2450a176c30>"
      ]
     },
     "execution_count": 139,
     "metadata": {},
     "output_type": "execute_result"
    }
   ],
   "source": [
    "kernel, kernel_tfs = create_gauss_filter(h=480, w=480, k_size=15, sigma=5)\n",
    "\n",
    "plt.figure(figsize=(12,12))\n",
    "plt.subplot(1,2,1)\n",
    "plt.axis('off')\n",
    "plt.title(\"Kernel Gausiano\")\n",
    "plt.imshow(kernel, cmap='jet')\n",
    "plt.subplot(1,2,2)\n",
    "plt.axis('off')\n",
    "plt.title(\"FFT del kernel\")\n",
    "tf_shift = np.fft.fftshift(kernel_tfs)\n",
    "plt.imshow(np.abs(tf_shift), cmap='jet')"
   ]
  },
  {
   "cell_type": "code",
   "execution_count": null,
   "id": "2bb9aa10-0c09-4e6e-9269-5b1441badc1c",
   "metadata": {},
   "outputs": [],
   "source": [
    "# A medida que aumento el sigma, la región central del kernel gaussiano aumenta y la transformada disminuye. Mientras más grande sigma son más\n",
    "# perceptibles las ondas de las frecuencias de Fourier"
   ]
  },
  {
   "cell_type": "markdown",
   "id": "d6364b10-33f1-49ae-b025-4344ac09813b",
   "metadata": {},
   "source": [
    "Aplicar el filtro un imagen para validar el funcionamiento en el dominio espectral."
   ]
  },
  {
   "cell_type": "code",
   "execution_count": 40,
   "id": "a529c8d5-784b-44d8-ad0a-a09741cc6d84",
   "metadata": {},
   "outputs": [
    {
     "name": "stdout",
     "output_type": "stream",
     "text": [
      "542 870\n"
     ]
    }
   ],
   "source": [
    "img = cv.imread('golazo.jpg', cv.IMREAD_GRAYSCALE)\n",
    "h,w = img.shape\n",
    "print (h,w)"
   ]
  },
  {
   "cell_type": "code",
   "execution_count": 88,
   "id": "8b0529cb-a384-48e4-9f09-2de03cbd6d10",
   "metadata": {},
   "outputs": [],
   "source": [
    "kernel_sigma_1, kernel_tf_sigma_1= create_gauss_filter(h, w, k_size=15, sigma=1)"
   ]
  },
  {
   "cell_type": "code",
   "execution_count": 48,
   "id": "8fd08bb3-286e-4748-9693-34128f0df634",
   "metadata": {},
   "outputs": [],
   "source": [
    "kernel_sigma_2, kernel_tf_sigma_2= create_gauss_filter(h, w, k_size=15, sigma=2)"
   ]
  },
  {
   "cell_type": "code",
   "execution_count": 49,
   "id": "d9c7cd42-faa8-4ba7-a34a-2fbba2f23f3d",
   "metadata": {},
   "outputs": [],
   "source": [
    "kernel_sigma_3, kernel_tf_sigma_3= create_gauss_filter(h, w, k_size=15, sigma=3)"
   ]
  },
  {
   "cell_type": "code",
   "execution_count": 50,
   "id": "018541b7-f7fa-4ff5-b8cc-61050b74dfdd",
   "metadata": {},
   "outputs": [],
   "source": [
    "kernel_sigma_4, kernel_tf_sigma_4= create_gauss_filter(h, w, k_size=15, sigma=4)"
   ]
  },
  {
   "cell_type": "code",
   "execution_count": 51,
   "id": "e57bcbd0-8205-49cc-ac0c-a18d7e404939",
   "metadata": {},
   "outputs": [],
   "source": [
    "kernel_sigma_5, kernel_tf_sigma_5= create_gauss_filter(h, w, k_size=15, sigma=5)"
   ]
  },
  {
   "cell_type": "code",
   "execution_count": 43,
   "id": "b2d8193d-f05a-4b01-8e6d-fa39fe5d7214",
   "metadata": {},
   "outputs": [],
   "source": [
    "img_fft = np.fft.fft2(img)"
   ]
  },
  {
   "cell_type": "code",
   "execution_count": 96,
   "id": "9f1cdd14-e4d9-49bb-83cb-a54f53999a2a",
   "metadata": {},
   "outputs": [
    {
     "data": {
      "text/plain": [
       "Text(0.5, 1.0, 'Desenfoque gaussiano con enfoque espectral Sigma = 1')"
      ]
     },
     "execution_count": 96,
     "metadata": {},
     "output_type": "execute_result"
    }
   ],
   "source": [
    "filtrada_sigma_1 = img_fft * kernel_tf_sigma_1\n",
    "img_gauss_sigma_1 = np.fft.ifftshift(np.real(np.fft.ifft2(filtrada_sigma_1)))\n",
    "\n",
    "plt.figure(figsize=(8,8))\n",
    "plt.imshow(img_gauss_sigma_1, cmap='gray')\n",
    "plt.title('Desenfoque gaussiano con enfoque espectral Sigma = 1')"
   ]
  },
  {
   "cell_type": "code",
   "execution_count": 97,
   "id": "72e9b156-c712-45fe-87cb-c00c99a53fea",
   "metadata": {},
   "outputs": [
    {
     "data": {
      "text/plain": [
       "Text(0.5, 1.0, 'Desenfoque gaussiano con enfoque espectral sigma = 2')"
      ]
     },
     "execution_count": 97,
     "metadata": {},
     "output_type": "execute_result"
    }
   ],
   "source": [
    "filtrada_sigma_2 = img_fft * kernel_tf_sigma_2\n",
    "img_gauss_sigma_2 = np.fft.ifftshift(np.real(np.fft.ifft2(filtrada_sigma_2)))\n",
    "\n",
    "plt.figure(figsize=(8,8))\n",
    "plt.imshow(img_gauss_sigma_2, cmap='gray')\n",
    "plt.title('Desenfoque gaussiano con enfoque espectral sigma = 2')"
   ]
  },
  {
   "cell_type": "code",
   "execution_count": 98,
   "id": "e7f484c1-0ea6-49fd-968e-2affaaaa61e6",
   "metadata": {},
   "outputs": [
    {
     "data": {
      "text/plain": [
       "Text(0.5, 1.0, 'Desenfoque gaussiano con enfoque espectral sigma = 3')"
      ]
     },
     "execution_count": 98,
     "metadata": {},
     "output_type": "execute_result"
    }
   ],
   "source": [
    "filtrada_sigma_3 = img_fft * kernel_tf_sigma_3\n",
    "img_gauss_sigma_3 = np.fft.ifftshift(np.real(np.fft.ifft2(filtrada_sigma_3)))\n",
    "\n",
    "plt.figure(figsize=(8,8))\n",
    "plt.imshow(img_gauss_sigma_3, cmap='gray')\n",
    "plt.title('Desenfoque gaussiano con enfoque espectral sigma = 3')"
   ]
  },
  {
   "cell_type": "code",
   "execution_count": 99,
   "id": "498e83e8-b5a6-41ae-abaa-729e09624aea",
   "metadata": {},
   "outputs": [
    {
     "data": {
      "text/plain": [
       "Text(0.5, 1.0, 'Desenfoque gaussiano con enfoque espectral sigma = 4')"
      ]
     },
     "execution_count": 99,
     "metadata": {},
     "output_type": "execute_result"
    }
   ],
   "source": [
    "filtrada_sigma_4 = img_fft * kernel_tf_sigma_4\n",
    "img_gauss_sigma_4 = np.fft.ifftshift(np.real(np.fft.ifft2(filtrada_sigma_4)))\n",
    "\n",
    "plt.figure(figsize=(8,8))\n",
    "plt.imshow(img_gauss_sigma_4, cmap='gray')\n",
    "plt.title('Desenfoque gaussiano con enfoque espectral sigma = 4')"
   ]
  },
  {
   "cell_type": "code",
   "execution_count": 100,
   "id": "2195ad50-8ff1-4cc7-9180-96ecc9657dd3",
   "metadata": {},
   "outputs": [
    {
     "data": {
      "text/plain": [
       "Text(0.5, 1.0, 'Desenfoque gaussiano con enfoque espectral sigma = 5')"
      ]
     },
     "execution_count": 100,
     "metadata": {},
     "output_type": "execute_result"
    }
   ],
   "source": [
    "filtrada_sigma_5 = img_fft * kernel_tf_sigma_5\n",
    "img_gauss_sigma_5 = np.fft.ifftshift(np.real(np.fft.ifft2(filtrada_sigma_5)))\n",
    "\n",
    "plt.figure(figsize=(8,8))\n",
    "plt.imshow(img_gauss_sigma_5, cmap='gray')\n",
    "plt.title('Desenfoque gaussiano con enfoque espectral sigma = 5')"
   ]
  },
  {
   "cell_type": "code",
   "execution_count": 101,
   "id": "0e944577-be19-4482-b938-3a50fb083f0b",
   "metadata": {},
   "outputs": [],
   "source": [
    "fig, axs = plt.subplots(2, 3, figsize=(10, 15))\n",
    "\n",
    "axs[0][0].imshow(img_gauss_sigma_1, cmap='gray')\n",
    "axs[0][0].set_title('Blur gaussiano espectral sigma = 1')\n",
    "\n",
    "axs[0][1].imshow(img_gauss_sigma_2, cmap='gray')\n",
    "axs[0][1].set_title('Blur gaussiano espectral sigma = 2')\n",
    "\n",
    "axs[0][2].imshow(img_gauss_sigma_3, cmap='gray')\n",
    "axs[0][2].set_title('Blur gaussiano espectral sigma = 3')\n",
    "\n",
    "axs[1][0].imshow(img_gauss_sigma_4, cmap='gray')\n",
    "axs[1][0].set_title('Blur gaussiano espectral sigma = 4')\n",
    "\n",
    "axs[1][1].imshow(img_gauss_sigma_5, cmap='gray')\n",
    "axs[1][1].set_title('Blur gaussiano espectral sigma = 5')\n",
    "plt.show()"
   ]
  },
  {
   "cell_type": "markdown",
   "id": "21dc162e-a0c8-4a9c-8967-a2b794e34c18",
   "metadata": {},
   "source": [
    "## PUNTO 2\n",
    "Usando el método descripto en el\n",
    "paper Image Sharpness Measure for Blurred Images in Frequency\n",
    "Domain” comparar el resultado de un filtrado por convolución con el filtrado espectral"
   ]
  },
  {
   "cell_type": "code",
   "execution_count": null,
   "id": "2225e062-ab00-4540-949e-d13ab6dcd8c6",
   "metadata": {},
   "outputs": [],
   "source": [
    "#Creación de Blur Gaussiano convolucional con sigma 1 al 5"
   ]
  },
  {
   "cell_type": "code",
   "execution_count": 69,
   "id": "bb4664f5-77a4-4187-97f6-327ec4acce91",
   "metadata": {},
   "outputs": [
    {
     "data": {
      "text/plain": [
       "Text(0.5, 1.0, 'Blur Convolucional con Gauss sigma 1')"
      ]
     },
     "execution_count": 69,
     "metadata": {},
     "output_type": "execute_result"
    }
   ],
   "source": [
    "blur_gaussiano_s1 = cv.GaussianBlur(img, (15, 15), sigmaX=1)\n",
    "plt.figure(figsize=(8,8))\n",
    "plt.imshow(blur_gaussiano_s1, cmap='gray')\n",
    "plt.title('Blur Convolucional con Gauss sigma 1')"
   ]
  },
  {
   "cell_type": "code",
   "execution_count": 81,
   "id": "ac3a447a-118b-47bd-87fc-42d1e842d862",
   "metadata": {},
   "outputs": [
    {
     "data": {
      "text/plain": [
       "Text(0.5, 1.0, 'Blur Convolucional con Gauss sigma 2')"
      ]
     },
     "execution_count": 81,
     "metadata": {},
     "output_type": "execute_result"
    }
   ],
   "source": [
    "blur_gaussiano_s2 = cv.GaussianBlur(img, (15, 15), sigmaX=2)\n",
    "plt.figure(figsize=(8,8))\n",
    "plt.imshow(blur_gaussiano_s2, cmap='gray')\n",
    "plt.title('Blur Convolucional con Gauss sigma 2')"
   ]
  },
  {
   "cell_type": "code",
   "execution_count": 75,
   "id": "99f6e213-02db-4c90-aee0-00c874a03482",
   "metadata": {},
   "outputs": [
    {
     "data": {
      "text/plain": [
       "Text(0.5, 1.0, 'Blur Convolucional con Gauss sigma 3')"
      ]
     },
     "execution_count": 75,
     "metadata": {},
     "output_type": "execute_result"
    }
   ],
   "source": [
    "blur_gaussiano_s3 = cv.GaussianBlur(img, (15, 15), sigmaX=3)\n",
    "plt.figure(figsize=(8,8))\n",
    "plt.imshow(blur_gaussiano_s3, cmap='gray')\n",
    "plt.title('Blur Convolucional con Gauss sigma 3')"
   ]
  },
  {
   "cell_type": "code",
   "execution_count": 76,
   "id": "c551b93f-c29b-40ff-929d-2dfe38207062",
   "metadata": {},
   "outputs": [
    {
     "data": {
      "text/plain": [
       "Text(0.5, 1.0, 'Blur Convolucional con Gauss sigma 4')"
      ]
     },
     "execution_count": 76,
     "metadata": {},
     "output_type": "execute_result"
    }
   ],
   "source": [
    "blur_gaussiano_s4 = cv.GaussianBlur(img, (15, 15), sigmaX=4)\n",
    "plt.figure(figsize=(8,8))\n",
    "plt.imshow(blur_gaussiano_s4, cmap='gray')\n",
    "plt.title('Blur Convolucional con Gauss sigma 4')"
   ]
  },
  {
   "cell_type": "code",
   "execution_count": 77,
   "id": "46fee95a-c0ab-4a86-8c56-ade343603a83",
   "metadata": {},
   "outputs": [
    {
     "data": {
      "text/plain": [
       "Text(0.5, 1.0, 'Blur Convolucional con Gauss sigma 5')"
      ]
     },
     "execution_count": 77,
     "metadata": {},
     "output_type": "execute_result"
    }
   ],
   "source": [
    "blur_gaussiano_s5 = cv.GaussianBlur(img, (15, 15), sigmaX=5)\n",
    "plt.figure(figsize=(8,8))\n",
    "plt.imshow(blur_gaussiano_s5, cmap='gray')\n",
    "plt.title('Blur Convolucional con Gauss sigma 5')"
   ]
  },
  {
   "cell_type": "markdown",
   "id": "09dfbf29-f134-47a4-8c4a-1595bdebbc2b",
   "metadata": {},
   "source": [
    " # Algorithm for image quality measure\r\n",
    "Input: Image I of size M×N.\r\n",
    "Output: Image Quality measure (FM) where FM stands for Frequency Domain Image Blur Measure\r\n",
    "Step 1: Compute F which is the Fourier Transform representation of image I\r\n",
    "Step 2: Find Fc which is obtained by shifting the origin of F to centre.\r\n",
    "Step 3: Calculate AF = abs (Fc) where AF is the absolute value of the centered Fourier transform of image I.\r\n",
    "Step 4: Calculate M = max (AF) where M is the maximum value of the frequency component in F.\r\n",
    "Step 5: Calculate TH = the total number of pixels in F whose pixel value > thres, where thres = M/1000.\r\n",
    "Step 6: Calculate Image Quality measure (FM) from equat  FM = Th/(MXN)ion (1)."
   ]
  },
  {
   "cell_type": "code",
   "execution_count": 26,
   "id": "44380233-f226-4b4d-898b-25e6742abdef",
   "metadata": {},
   "outputs": [],
   "source": [
    "def iqm (image):\n",
    "    # Step 1: Compute F which is the Fourier Transform representation of image\n",
    "    F = np.fft.fft2(image)\n",
    "    \n",
    "    # Step 2: Find Fc which is obtained by shifting the origin of F to centre.\n",
    "    Fc = np.fft.fftshift(F)\n",
    "    \n",
    "    # Step 3: Calculate AF = abs (Fc) where AF is the absolute value of the centered Fourier transform of image I\n",
    "    AF = np.abs(Fc)\n",
    "    \n",
    "    # Step 4: Calculate M = max (AF) where M is the maximum value of the frequency component in F\n",
    "    M = np.max(AF)\n",
    "    \n",
    "    # Step 5: Calculate TH = the total number of pixels in F whose pixel value > thres, where thres = M/1000.\n",
    "    thres = M / 1000\n",
    "    \n",
    "    # Step 6: Count the number of pixels greater than the threshold\n",
    "    pix_greater_thres = np.sum(AF > thres)\n",
    "    \n",
    "    # Step 7: Calculate the image quality measure (FM) from equation (1).  FM = Th/(MXN)\n",
    "    FM = pix_greater_thres / (image.shape[0] * image.shape[1])\n",
    "\n",
    "    return FM    "
   ]
  },
  {
   "cell_type": "code",
   "execution_count": null,
   "id": "3a0b83aa-3915-447c-963f-9cbda9ceed49",
   "metadata": {},
   "outputs": [],
   "source": [
    "#Cálculo de IQM para los 5 filtrados convolucionales y espectrales"
   ]
  },
  {
   "cell_type": "code",
   "execution_count": 73,
   "id": "8066b51c-42a2-4744-9f17-5c6b286243dc",
   "metadata": {},
   "outputs": [
    {
     "name": "stdout",
     "output_type": "stream",
     "text": [
      "0.036957628196971626\n"
     ]
    }
   ],
   "source": [
    "iqm_convolucion_1 = iqm(blur_gaussiano_s1)\n",
    "print (iqm_convolucion_1)"
   ]
  },
  {
   "cell_type": "code",
   "execution_count": 82,
   "id": "95cae957-1a76-4e3d-b8eb-a8b9e1a6db7f",
   "metadata": {},
   "outputs": [
    {
     "name": "stdout",
     "output_type": "stream",
     "text": [
      "0.018651652033761717\n"
     ]
    }
   ],
   "source": [
    "iqm_convolucion_2 = iqm(blur_gaussiano_s2)\n",
    "print (iqm_convolucion_2)"
   ]
  },
  {
   "cell_type": "code",
   "execution_count": 83,
   "id": "97a5c1de-15a7-4a1d-b234-ce9155b647d0",
   "metadata": {},
   "outputs": [
    {
     "name": "stdout",
     "output_type": "stream",
     "text": [
      "0.011610891970988675\n"
     ]
    }
   ],
   "source": [
    "iqm_convolucion_3 = iqm(blur_gaussiano_s3)\n",
    "print (iqm_convolucion_3)"
   ]
  },
  {
   "cell_type": "code",
   "execution_count": 84,
   "id": "8a60ea19-4475-4173-be54-3427b22298d5",
   "metadata": {},
   "outputs": [
    {
     "name": "stdout",
     "output_type": "stream",
     "text": [
      "0.008811553632777707\n"
     ]
    }
   ],
   "source": [
    "iqm_convolucion_4 = iqm(blur_gaussiano_s4)\n",
    "print (iqm_convolucion_4)"
   ]
  },
  {
   "cell_type": "code",
   "execution_count": 86,
   "id": "91ce25b8-52ad-4412-b147-d6dd58e00e0c",
   "metadata": {},
   "outputs": [
    {
     "name": "stdout",
     "output_type": "stream",
     "text": [
      "0.007602748441277517\n"
     ]
    }
   ],
   "source": [
    "iqm_convolucion_5 = iqm(blur_gaussiano_s5)\n",
    "print (iqm_convolucion_5)"
   ]
  },
  {
   "cell_type": "code",
   "execution_count": 102,
   "id": "515cd3bd-5b77-42b4-92f1-87cc6cbe81da",
   "metadata": {},
   "outputs": [
    {
     "name": "stdout",
     "output_type": "stream",
     "text": [
      "0.03656317597658735\n"
     ]
    }
   ],
   "source": [
    "iqm_espectral_sigma_1 = iqm (img_gauss_sigma_1)\n",
    "print(iqm_espectral_sigma_1)"
   ]
  },
  {
   "cell_type": "code",
   "execution_count": 103,
   "id": "30329f4b-7308-4a9e-be69-92a4d6ceb249",
   "metadata": {},
   "outputs": [
    {
     "name": "stdout",
     "output_type": "stream",
     "text": [
      "0.018384442465114306\n"
     ]
    }
   ],
   "source": [
    "iqm_espectral_sigma_2 = iqm (img_gauss_sigma_2)\n",
    "print(iqm_espectral_sigma_2)"
   ]
  },
  {
   "cell_type": "code",
   "execution_count": 105,
   "id": "03679c50-d50a-4653-b1ca-ce20608974e9",
   "metadata": {},
   "outputs": [
    {
     "name": "stdout",
     "output_type": "stream",
     "text": [
      "0.018384442465114306\n"
     ]
    }
   ],
   "source": [
    "iqm_espectral_sigma_3 = iqm (img_gauss_sigma_2)\n",
    "print(iqm_espectral_sigma_3)"
   ]
  },
  {
   "cell_type": "code",
   "execution_count": 106,
   "id": "79fcad5d-7b61-4bc0-9dc9-9d88a5f1f7ef",
   "metadata": {},
   "outputs": [
    {
     "name": "stdout",
     "output_type": "stream",
     "text": [
      "0.011462442210629004\n"
     ]
    }
   ],
   "source": [
    "iqm_espectral_sigma_3 = iqm (img_gauss_sigma_3)\n",
    "print(iqm_espectral_sigma_3)"
   ]
  },
  {
   "cell_type": "code",
   "execution_count": 107,
   "id": "ed08ac4f-0b1d-40b2-bb88-a3aa0a45ff55",
   "metadata": {},
   "outputs": [
    {
     "name": "stdout",
     "output_type": "stream",
     "text": [
      "0.00853161979895661\n"
     ]
    }
   ],
   "source": [
    "iqm_espectral_sigma_4 = iqm (img_gauss_sigma_4)\n",
    "print(iqm_espectral_sigma_4)"
   ]
  },
  {
   "cell_type": "code",
   "execution_count": 108,
   "id": "9b86327d-3f3c-4194-8d6d-8e24680e3437",
   "metadata": {},
   "outputs": [
    {
     "name": "stdout",
     "output_type": "stream",
     "text": [
      "0.007416125885396785\n"
     ]
    }
   ],
   "source": [
    "iqm_espectral_sigma_5 = iqm (img_gauss_sigma_5)\n",
    "print(iqm_espectral_sigma_5)"
   ]
  },
  {
   "cell_type": "code",
   "execution_count": 116,
   "id": "40145763-f603-47ad-acee-4c39060ed504",
   "metadata": {},
   "outputs": [],
   "source": [
    "x = np.arange(1,6)\n",
    "iqm_serie_espectral = np.array ([iqm_espectral_sigma_1, iqm_espectral_sigma_2,iqm_espectral_sigma_3,iqm_espectral_sigma_4,iqm_espectral_sigma_5])\n",
    "iqm_serie_convolucional = np.array([iqm_convolucion_1, iqm_convolucion_2,iqm_convolucion_3,iqm_convolucion_4,iqm_convolucion_5])\n",
    "plt.plot(x, iqm_serie_espectral, label= 'Espectral')\n",
    "plt.plot(x, iqm_serie_convolucional, label= 'Convolucional')\n",
    "plt.xlabel('Cantidad de Sigmas del Filtro Gaussiano')\n",
    "plt.ylabel('IQM')\n",
    "plt.title('IQM Blur Espectral vs Convolucional')\n",
    "plt.legend()\n",
    "plt.show()"
   ]
  },
  {
   "cell_type": "markdown",
   "id": "4b8be0bc-8809-4efb-aede-bf26db9f243f",
   "metadata": {},
   "source": [
    "## CONCLUSIÓN PUNTO 2\n",
    "Viendo que el iqm de la imagen blurreada por convolución y el de la espectral difieren en el cuarto decimal, considero que son equivalentes. Las diferencias deben ser por la operación de cálculo de python. Sin embargo, estrictamente hablando, un iqm menor indica menores frecuencias altas, o sea mejor efecto blur."
   ]
  },
  {
   "cell_type": "markdown",
   "id": "4a04099a-91c7-4867-bbea-a57b697dbcf6",
   "metadata": {},
   "source": [
    "## PUNTO 3\n",
    "\n",
    "Repetir\r\n",
    "la comparación usando uno de los métodos descriptos en el apéndice del paper “Analysis of\r\n",
    "focus measure operators in shape from focus”\n",
    "\n"
   ]
  },
  {
   "cell_type": "code",
   "execution_count": 34,
   "id": "c3e7eb24-2504-4c7c-9c19-a9cf0094db3f",
   "metadata": {},
   "outputs": [],
   "source": [
    "def brenner_fm (image):\n",
    "   \n",
    "    height, width = image.shape\n",
    "    focus_measure = 0\n",
    "    for i in range(height - 2):\n",
    "        for j in range(width):\n",
    "            focus_measure += (int(image[i, j]) - int(image[i + 2, j])) ** 2\n",
    "    \n",
    "    return focus_measure"
   ]
  },
  {
   "cell_type": "code",
   "execution_count": 119,
   "id": "6f34cef8-5d5a-4f0b-be49-e60b155fdbb1",
   "metadata": {},
   "outputs": [
    {
     "name": "stdout",
     "output_type": "stream",
     "text": [
      "249236164\n"
     ]
    }
   ],
   "source": [
    "#Calculo brenner para los blur convolucionales\n",
    "brenner_conv_1 = brenner_fm (blur_gaussiano_s1)\n",
    "print(brenner_conv_1)"
   ]
  },
  {
   "cell_type": "code",
   "execution_count": 120,
   "id": "d77c192d-5aca-42b3-85e9-0f1579d68fe2",
   "metadata": {},
   "outputs": [
    {
     "name": "stdout",
     "output_type": "stream",
     "text": [
      "64485818\n"
     ]
    }
   ],
   "source": [
    "brenner_conv_2 = brenner_fm (blur_gaussiano_s2)\n",
    "print(brenner_conv_2)"
   ]
  },
  {
   "cell_type": "code",
   "execution_count": 121,
   "id": "76509eb7-6b36-46d0-bbee-f775adb56a1f",
   "metadata": {},
   "outputs": [
    {
     "name": "stdout",
     "output_type": "stream",
     "text": [
      "26939490\n"
     ]
    }
   ],
   "source": [
    "brenner_conv_3 = brenner_fm (blur_gaussiano_s3)\n",
    "print(brenner_conv_3)"
   ]
  },
  {
   "cell_type": "code",
   "execution_count": 122,
   "id": "fe40e97c-5085-44d9-9b95-fe39d87b59a4",
   "metadata": {},
   "outputs": [
    {
     "name": "stdout",
     "output_type": "stream",
     "text": [
      "17698603\n"
     ]
    }
   ],
   "source": [
    "brenner_conv_4 = brenner_fm (blur_gaussiano_s4)\n",
    "print(brenner_conv_4)"
   ]
  },
  {
   "cell_type": "code",
   "execution_count": 123,
   "id": "2eb3ace1-3d4a-4409-bac0-b436b88aeaf9",
   "metadata": {},
   "outputs": [
    {
     "name": "stdout",
     "output_type": "stream",
     "text": [
      "14891369\n"
     ]
    }
   ],
   "source": [
    "brenner_conv_5 = brenner_fm (blur_gaussiano_s5)\n",
    "print(brenner_conv_5)"
   ]
  },
  {
   "cell_type": "code",
   "execution_count": 126,
   "id": "650ec0c3-c648-492a-b0f1-33922e58c7ea",
   "metadata": {},
   "outputs": [
    {
     "name": "stdout",
     "output_type": "stream",
     "text": [
      "249746340\n"
     ]
    }
   ],
   "source": [
    "#Calculamos brenner con blur espectral\n",
    "brenner_spectral_1 = brenner_fm(img_gauss_sigma_1)\n",
    "print(brenner_spectral_1)"
   ]
  },
  {
   "cell_type": "code",
   "execution_count": 128,
   "id": "a4624044-8213-42b7-8888-93c4d85e8074",
   "metadata": {},
   "outputs": [
    {
     "name": "stdout",
     "output_type": "stream",
     "text": [
      "63917020\n"
     ]
    }
   ],
   "source": [
    "brenner_spectral_2 = brenner_fm(img_gauss_sigma_2)\n",
    "print(brenner_spectral_2)"
   ]
  },
  {
   "cell_type": "code",
   "execution_count": 129,
   "id": "49a32484-4d10-4e01-8fef-c8bac6b8bced",
   "metadata": {},
   "outputs": [
    {
     "name": "stdout",
     "output_type": "stream",
     "text": [
      "27355245\n"
     ]
    }
   ],
   "source": [
    "brenner_spectral_3 = brenner_fm(img_gauss_sigma_3)\n",
    "print(brenner_spectral_3)"
   ]
  },
  {
   "cell_type": "code",
   "execution_count": 130,
   "id": "35492ee0-1e2d-4ba2-92c0-cdd81902c94f",
   "metadata": {},
   "outputs": [
    {
     "name": "stdout",
     "output_type": "stream",
     "text": [
      "17877245\n"
     ]
    }
   ],
   "source": [
    "brenner_spectral_4 = brenner_fm(img_gauss_sigma_4)\n",
    "print(brenner_spectral_4)"
   ]
  },
  {
   "cell_type": "code",
   "execution_count": 131,
   "id": "9ebe285a-fe7d-475f-b4d9-c29b35c74a65",
   "metadata": {},
   "outputs": [
    {
     "name": "stdout",
     "output_type": "stream",
     "text": [
      "15038173\n"
     ]
    }
   ],
   "source": [
    "brenner_spectral_5 = brenner_fm(img_gauss_sigma_5)\n",
    "print(brenner_spectral_5)"
   ]
  },
  {
   "cell_type": "code",
   "execution_count": 132,
   "id": "9998843c-dc77-4e10-8181-f86494d31926",
   "metadata": {},
   "outputs": [],
   "source": [
    "x = np.arange(1,6)\n",
    "brenner_serie_espectral = np.array ([brenner_spectral_1,brenner_spectral_2,brenner_spectral_3,brenner_spectral_4,brenner_spectral_5])\n",
    "brenner_serie_convolucional = np.array([brenner_conv_1,brenner_conv_2,brenner_conv_3,brenner_conv_4,brenner_conv_5])\n",
    "plt.plot(x, brenner_serie_espectral, label= 'Espectral')\n",
    "plt.plot(x, brenner_serie_convolucional, label= 'Convolucional')\n",
    "plt.xlabel('Cantidad de Sigmas del Filtro Gaussiano')\n",
    "plt.ylabel('Brenner Sharpness')\n",
    "plt.title('Brenner Sharpness Blur Espectral vs Convolucional')\n",
    "plt.legend()\n",
    "plt.show()"
   ]
  },
  {
   "cell_type": "markdown",
   "id": "48b5c43c-2ea9-473d-a2e0-6eee8d32003d",
   "metadata": {},
   "source": [
    "## CONCLUSIÓN PUNTO 3\r",
    "Nuevamente la diferencia entre ambos filtros es insignificante. Es más, en algunos sigmas el convolucional es mayor al espectral y con otros sigmas es al revés. Estrictamente hablando, el focus measure de brenner me indica que mientras mayor el valor más sharp es la imagen, o sea menos blurreada."
   ]
  },
  {
   "cell_type": "code",
   "execution_count": null,
   "id": "81401cc2-9c52-4307-99c2-69a33fa87743",
   "metadata": {},
   "outputs": [],
   "source": []
  }
 ],
 "metadata": {
  "kernelspec": {
   "display_name": "Python 3 (ipykernel)",
   "language": "python",
   "name": "python3"
  },
  "language_info": {
   "codemirror_mode": {
    "name": "ipython",
    "version": 3
   },
   "file_extension": ".py",
   "mimetype": "text/x-python",
   "name": "python",
   "nbconvert_exporter": "python",
   "pygments_lexer": "ipython3",
   "version": "3.12.3"
  }
 },
 "nbformat": 4,
 "nbformat_minor": 5
}
