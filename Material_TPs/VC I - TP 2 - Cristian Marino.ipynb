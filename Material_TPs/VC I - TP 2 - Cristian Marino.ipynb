{
 "cells": [
  {
   "cell_type": "code",
   "execution_count": 1,
   "id": "9fb8732c-190b-43a9-867d-6407d3fe13f3",
   "metadata": {},
   "outputs": [],
   "source": [
    "import numpy as np\n",
    "import cv2 as cv\n",
    "import matplotlib.pyplot as plt \n",
    "%matplotlib qt"
   ]
  },
  {
   "cell_type": "markdown",
   "id": "93aae6e8-44e7-476e-bb23-4fa81e1c3e92",
   "metadata": {},
   "source": [
    "## PUNTO 0\n",
    "Implementar la función\r\n",
    "create_gauss_filter (h, w, k_size , para crear filtros gaussianos para\r\n",
    "filtrado espectral. Debe retornar un filtro gaussiano de tamaño HxW en dominio espacial y su transformada\r\n",
    "de Fourier."
   ]
  },
  {
   "cell_type": "code",
   "execution_count": 2,
   "id": "6bcae325-0bd7-4926-9141-dde0288184af",
   "metadata": {},
   "outputs": [],
   "source": [
    "def create_gauss_filter(h, w, k_size, sigma):\n",
    "    #Creo el filtro gausiano en 1 d\n",
    "    filtro_gaussiano = cv.getGaussianKernel(k_size, sigma)\n",
    "    #Lo transformo en 2d con la transpuesta\n",
    "    filtro_gaussiano = filtro_gaussiano * filtro_gaussiano.T\n",
    "    #Hago un filtro de todos ceros para padding con las dimensiones de la imagen\n",
    "    filtro_g_padding = np.zeros((h, w), dtype=np.float32)\n",
    "    #Coordenadas donde voy a colocar el filtro gaussiano dentro del padding\n",
    "    start_x = (h - k_size) // 2\n",
    "    start_y = (w - k_size) // 2\n",
    "    #Reemplazo los ceros por el filtro gaussiano\n",
    "    filtro_g_padding[start_x:start_x + k_size, start_y:start_y + k_size] = filtro_gaussiano\n",
    "    # Calculo la FFT y la shifteo\n",
    "    t_fourier = np.fft.fft2(filtro_g_padding)\n",
    "    \n",
    "    return filtro_g_padding, t_fourier"
   ]
  },
  {
   "cell_type": "markdown",
   "id": "ee316e88-54fc-4b32-80e1-781da79f265d",
   "metadata": {},
   "source": [
    "## PUNTO 1\n",
    "Graficar ambas representaciones para diferentes tamaños de \n",
    "kernel y sigmal."
   ]
  },
  {
   "cell_type": "code",
   "execution_count": 3,
   "id": "0fac4e17-1419-4bb6-85e0-4001c51f0180",
   "metadata": {},
   "outputs": [
    {
     "data": {
      "text/plain": [
       "<matplotlib.image.AxesImage at 0x2457fd36540>"
      ]
     },
     "execution_count": 3,
     "metadata": {},
     "output_type": "execute_result"
    }
   ],
   "source": [
    "kernel, kernel_tfs = create_gauss_filter(h=480, w=480, k_size=15, sigma=2)\n",
    "\n",
    "plt.figure(figsize=(12,12))\n",
    "plt.subplot(1,2,1)\n",
    "plt.axis('off')\n",
    "plt.title(\"Kernel Gausiano\")\n",
    "plt.imshow(kernel, cmap='jet')\n",
    "plt.subplot(1,2,2)\n",
    "plt.axis('off')\n",
    "plt.title(\"FFT del kernel\")\n",
    "tf_shift = np.fft.fftshift(kernel_tfs)\n",
    "plt.imshow(np.abs(tf_shift), cmap='jet')"
   ]
  },
  {
   "cell_type": "markdown",
   "id": "d6364b10-33f1-49ae-b025-4344ac09813b",
   "metadata": {},
   "source": [
    "Aplicar el filtro un imagen para validar el funcionamiento en el dominio espectral."
   ]
  },
  {
   "cell_type": "code",
   "execution_count": 16,
   "id": "a529c8d5-784b-44d8-ad0a-a09741cc6d84",
   "metadata": {},
   "outputs": [
    {
     "name": "stdout",
     "output_type": "stream",
     "text": [
      "542 870\n"
     ]
    }
   ],
   "source": [
    "img = cv.imread('golazo.jpg', cv.IMREAD_GRAYSCALE)\n",
    "h,w = img.shape\n",
    "print (h,w)"
   ]
  },
  {
   "cell_type": "code",
   "execution_count": 11,
   "id": "8b0529cb-a384-48e4-9f09-2de03cbd6d10",
   "metadata": {},
   "outputs": [],
   "source": [
    "kernel, kernel_tf = create_gauss_filter(h, w, k_size=15, sigma=2)"
   ]
  },
  {
   "cell_type": "code",
   "execution_count": 18,
   "id": "b2d8193d-f05a-4b01-8e6d-fa39fe5d7214",
   "metadata": {},
   "outputs": [],
   "source": [
    "img_fft = np.fft.fft2(img)"
   ]
  },
  {
   "cell_type": "code",
   "execution_count": 22,
   "id": "9f1cdd14-e4d9-49bb-83cb-a54f53999a2a",
   "metadata": {},
   "outputs": [
    {
     "data": {
      "text/plain": [
       "Text(0.5, 1.0, 'Desenfoque gausiano con enfoque Espectral')"
      ]
     },
     "execution_count": 22,
     "metadata": {},
     "output_type": "execute_result"
    }
   ],
   "source": [
    "filtrada = img_fft * kernel_tf\n",
    "img_gauss = np.fft.ifftshift(np.real(np.fft.ifft2(filtrada)))\n",
    "\n",
    "plt.figure(figsize=(8,8))\n",
    "plt.imshow(img_gauss, cmap='gray')\n",
    "plt.title('Desenfoque gausiano con enfoque Espectral')"
   ]
  },
  {
   "cell_type": "markdown",
   "id": "21dc162e-a0c8-4a9c-8967-a2b794e34c18",
   "metadata": {},
   "source": [
    "## PUNTO 2\n",
    "Usando el método descripto en el\n",
    "paper Image Sharpness Measure for Blurred Images in Frequency\n",
    "Domain” comparar el resultado de un filtrado por convolución con el filtrado espectral"
   ]
  },
  {
   "cell_type": "code",
   "execution_count": 21,
   "id": "bb4664f5-77a4-4187-97f6-327ec4acce91",
   "metadata": {},
   "outputs": [
    {
     "data": {
      "text/plain": [
       "Text(0.5, 1.0, 'Blur Convolucional con Gauss')"
      ]
     },
     "execution_count": 21,
     "metadata": {},
     "output_type": "execute_result"
    }
   ],
   "source": [
    "blur_gaussiano = cv.GaussianBlur(img, (15, 15), sigmaX=2)\n",
    "plt.figure(figsize=(8,8))\n",
    "plt.imshow(blur_gaussiano, cmap='gray')\n",
    "plt.title('Blur Convolucional con Gauss')"
   ]
  },
  {
   "cell_type": "markdown",
   "id": "09dfbf29-f134-47a4-8c4a-1595bdebbc2b",
   "metadata": {},
   "source": [
    " # Algorithm for image quality measure\r\n",
    "Input: Image I of size M×N.\r\n",
    "Output: Image Quality measure (FM) where FM stands for Frequency Domain Image Blur Measure\r\n",
    "Step 1: Compute F which is the Fourier Transform representation of image I\r\n",
    "Step 2: Find Fc which is obtained by shifting the origin of F to centre.\r\n",
    "Step 3: Calculate AF = abs (Fc) where AF is the absolute value of the centered Fourier transform of image I.\r\n",
    "Step 4: Calculate M = max (AF) where M is the maximum value of the frequency component in F.\r\n",
    "Step 5: Calculate TH = the total number of pixels in F whose pixel value > thres, where thres = M/1000.\r\n",
    "Step 6: Calculate Image Quality measure (FM) from equat  FM = Th/(MXN)ion (1)."
   ]
  },
  {
   "cell_type": "code",
   "execution_count": 26,
   "id": "44380233-f226-4b4d-898b-25e6742abdef",
   "metadata": {},
   "outputs": [],
   "source": [
    "def iqm (image):\n",
    "    # Step 1: Compute F which is the Fourier Transform representation of image\n",
    "    F = np.fft.fft2(image)\n",
    "    \n",
    "    # Step 2: Find Fc which is obtained by shifting the origin of F to centre.\n",
    "    Fc = np.fft.fftshift(F)\n",
    "    \n",
    "    # Step 3: Calculate AF = abs (Fc) where AF is the absolute value of the centered Fourier transform of image I\n",
    "    AF = np.abs(Fc)\n",
    "    \n",
    "    # Step 4: Calculate M = max (AF) where M is the maximum value of the frequency component in F\n",
    "    M = np.max(AF)\n",
    "    \n",
    "    # Step 5: Calculate TH = the total number of pixels in F whose pixel value > thres, where thres = M/1000.\n",
    "    thres = M / 1000\n",
    "    \n",
    "    # Step 6: Count the number of pixels greater than the threshold\n",
    "    pix_greater_thres = np.sum(AF > thres)\n",
    "    \n",
    "    # Step 7: Calculate the image quality measure (FM) from equation (1).  FM = Th/(MXN)\n",
    "    FM = pix_greater_thres / (image.shape[0] * image.shape[1])\n",
    "\n",
    "    return FM    "
   ]
  },
  {
   "cell_type": "code",
   "execution_count": 27,
   "id": "8066b51c-42a2-4744-9f17-5c6b286243dc",
   "metadata": {},
   "outputs": [
    {
     "name": "stdout",
     "output_type": "stream",
     "text": [
      "0.018651652033761717\n"
     ]
    }
   ],
   "source": [
    "iqm_convolucion = iqm(blur_gaussiano)\n",
    "print (iqm_convolucion)"
   ]
  },
  {
   "cell_type": "code",
   "execution_count": 29,
   "id": "515cd3bd-5b77-42b4-92f1-87cc6cbe81da",
   "metadata": {},
   "outputs": [
    {
     "name": "stdout",
     "output_type": "stream",
     "text": [
      "0.018384442465114306\n"
     ]
    }
   ],
   "source": [
    "iqm_espectral = iqm (img_gauss)\n",
    "print(iqm_espectral)"
   ]
  },
  {
   "cell_type": "markdown",
   "id": "4b8be0bc-8809-4efb-aede-bf26db9f243f",
   "metadata": {},
   "source": [
    "## CONCLUSIÓN PUNTO 2\n",
    "Viendo que el iqm de la imagen blurreada por convolución y el de la espectral difieren en el cuarto decimal, considero que son equivalentes, sin embargo, estrictamente hablando, un iqm menor indica menores frecuencias altas, o sea mejor efecto blur, por lo que el espectral sería el mejor de los dos."
   ]
  },
  {
   "cell_type": "markdown",
   "id": "4a04099a-91c7-4867-bbea-a57b697dbcf6",
   "metadata": {},
   "source": [
    "## PUNTO 3\n",
    "\n",
    "Repetir\r\n",
    "la comparación usando uno de los métodos descriptos en el apéndice del paper “Analysis of\r\n",
    "focus measure operators in shape from focus”\n",
    "\n"
   ]
  },
  {
   "cell_type": "code",
   "execution_count": 34,
   "id": "c3e7eb24-2504-4c7c-9c19-a9cf0094db3f",
   "metadata": {},
   "outputs": [],
   "source": [
    "def brenner_fm (image):\n",
    "   \n",
    "    height, width = image.shape\n",
    "    focus_measure = 0\n",
    "    for i in range(height - 2):\n",
    "        for j in range(width):\n",
    "            focus_measure += (int(image[i, j]) - int(image[i + 2, j])) ** 2\n",
    "    \n",
    "    return focus_measure"
   ]
  },
  {
   "cell_type": "code",
   "execution_count": 35,
   "id": "6f34cef8-5d5a-4f0b-be49-e60b155fdbb1",
   "metadata": {},
   "outputs": [
    {
     "data": {
      "text/plain": [
       "64485818"
      ]
     },
     "execution_count": 35,
     "metadata": {},
     "output_type": "execute_result"
    }
   ],
   "source": [
    "brenner_fm (blur_gaussiano)"
   ]
  },
  {
   "cell_type": "code",
   "execution_count": 36,
   "id": "a4624044-8213-42b7-8888-93c4d85e8074",
   "metadata": {},
   "outputs": [
    {
     "data": {
      "text/plain": [
       "63917020"
      ]
     },
     "execution_count": 36,
     "metadata": {},
     "output_type": "execute_result"
    }
   ],
   "source": [
    "brenner_fm (img_gauss)"
   ]
  },
  {
   "cell_type": "markdown",
   "id": "48b5c43c-2ea9-473d-a2e0-6eee8d32003d",
   "metadata": {},
   "source": [
    "## CONCLUSIÓN PUNTO 3\r",
    "Nuevamente la diferencia es de menos de 500 mil aproximadamente en 64 millones, por lo que es de 2 órdenes de magnitud menores. Es más significativa que en el método iqm, pero igual muestra que no hay grandes diferencias entre los dos métodos. Estrictamente hablando, el focus measure de brenner me indica que mientras mayor el valor más sharp es la imagen, por lo que por este método reafirmamos que el blurreo por filtro espectral es el mejor.."
   ]
  },
  {
   "cell_type": "code",
   "execution_count": null,
   "id": "81401cc2-9c52-4307-99c2-69a33fa87743",
   "metadata": {},
   "outputs": [],
   "source": []
  }
 ],
 "metadata": {
  "kernelspec": {
   "display_name": "Python 3 (ipykernel)",
   "language": "python",
   "name": "python3"
  },
  "language_info": {
   "codemirror_mode": {
    "name": "ipython",
    "version": 3
   },
   "file_extension": ".py",
   "mimetype": "text/x-python",
   "name": "python",
   "nbconvert_exporter": "python",
   "pygments_lexer": "ipython3",
   "version": "3.12.3"
  }
 },
 "nbformat": 4,
 "nbformat_minor": 5
}
